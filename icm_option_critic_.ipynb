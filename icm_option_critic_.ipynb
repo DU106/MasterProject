{
  "cells": [
    {
      "cell_type": "markdown",
      "metadata": {
        "id": "9fyc-9tMzGm8"
      },
      "source": [
        "# The Option-Critic Architecture\n",
        "\n",
        "Simple implementation of the [Option-Critic Architecture](https://arxiv.org/abs/1609.05140) on the Four-rooms environment."
      ]
    },
    {
      "cell_type": "markdown",
      "metadata": {
        "id": "VP8XOdSRzGnG"
      },
      "source": [
        "### 1 Import Libraries and Modules"
      ]
    },
    {
      "cell_type": "code",
      "execution_count": null,
      "metadata": {
        "colab": {
          "base_uri": "https://localhost:8080/"
        },
        "id": "QyaWsRrz11r7",
        "outputId": "625e2a34-35c9-4f83-ea1d-17dd1bae9ec2"
      },
      "outputs": [
        {
          "output_type": "stream",
          "name": "stdout",
          "text": [
            "Looking in indexes: https://pypi.org/simple, https://us-python.pkg.dev/colab-wheels/public/simple/\n",
            "Collecting scipy==1.1.0\n",
            "  Downloading scipy-1.1.0-cp37-cp37m-manylinux1_x86_64.whl (31.2 MB)\n",
            "\u001b[K     |████████████████████████████████| 31.2 MB 1.2 MB/s \n",
            "\u001b[?25hRequirement already satisfied: numpy>=1.8.2 in /usr/local/lib/python3.7/dist-packages (from scipy==1.1.0) (1.21.6)\n",
            "Installing collected packages: scipy\n",
            "  Attempting uninstall: scipy\n",
            "    Found existing installation: scipy 1.7.3\n",
            "    Uninstalling scipy-1.7.3:\n",
            "      Successfully uninstalled scipy-1.7.3\n",
            "\u001b[31mERROR: pip's dependency resolver does not currently take into account all the packages that are installed. This behaviour is the source of the following dependency conflicts.\n",
            "pymc 4.1.4 requires scipy>=1.4.1, but you have scipy 1.1.0 which is incompatible.\n",
            "plotnine 0.8.0 requires scipy>=1.5.0, but you have scipy 1.1.0 which is incompatible.\n",
            "jaxlib 0.3.15+cuda11.cudnn805 requires scipy>=1.5, but you have scipy 1.1.0 which is incompatible.\n",
            "jax 0.3.17 requires scipy>=1.5, but you have scipy 1.1.0 which is incompatible.\n",
            "aeppl 0.0.33 requires scipy>=1.4.0, but you have scipy 1.1.0 which is incompatible.\u001b[0m\n",
            "Successfully installed scipy-1.1.0\n"
          ]
        }
      ],
      "source": [
        "!pip install scipy==1.1.0"
      ]
    },
    {
      "cell_type": "code",
      "execution_count": null,
      "metadata": {
        "id": "c9LixM6yzGnN"
      },
      "outputs": [],
      "source": [
        "from time import sleep\n",
        "import numpy as np\n",
        "from IPython.display import clear_output\n",
        "import matplotlib.pyplot as plt\n",
        "%matplotlib inline"
      ]
    },
    {
      "cell_type": "code",
      "execution_count": null,
      "metadata": {
        "id": "XRaPGGJZUIL8"
      },
      "outputs": [],
      "source": [
        "import numpy as np\n",
        "\n",
        "import scipy\n",
        "import scipy.misc as misc\n",
        "import scipy.special as special\n",
        "\n",
        "\n",
        "class EpsGreedyPolicy():\n",
        "\n",
        "\tdef __init__(self, rng, nstates, noptions, epsilon):\n",
        "\t\tself.rng = rng\n",
        "\t\tself.nstates = nstates\n",
        "\t\tself.noptions = noptions\n",
        "\t\tself.epsilon = epsilon\n",
        "\t\tself.Q_Omega_table = np.zeros((nstates, noptions))\n",
        "\n",
        "\tdef Q_Omega(self, state, option=None):\n",
        "\t\t# return Q_Omega table (s, option)\n",
        "\t\tif option is None:\n",
        "\t\t\treturn self.Q_Omega_table[state,:]\n",
        "\t\telse:\n",
        "\t\t\treturn self.Q_Omega_table[state, option]\n",
        "\n",
        "\tdef sample(self, state):\n",
        "\t\tif self.rng.uniform() < self.epsilon:\n",
        "\t\t\t# return random option\n",
        "\t\t\treturn int(self.rng.randint(self.noptions))\n",
        "\t\telse:\n",
        "\t\t\t# return argmax Q_Omega(s)\n",
        "\t\t\treturn int(np.argmax(self.Q_Omega(state)))\n",
        "\n",
        "\n",
        "class SoftmaxPolicy():\n",
        "\n",
        "\tdef __init__(self, rng, lr, nstates, nactions, temperature=1.0):\n",
        "\t\tself.rng = rng\n",
        "\t\tself.lr = lr\n",
        "\t\tself.nstates = nstates\n",
        "\t\tself.nactions = nactions\n",
        "\t\tself.temperature = temperature\n",
        "\t\tself.weights = np.zeros((nstates, nactions))\n",
        "\n",
        "\tdef Q_U(self, state, action=None):\n",
        "\t\tif action is None:\n",
        "\t\t\treturn self.weights[state,:]\n",
        "\t\telse:\n",
        "\t\t\treturn self.weights[state, action]\n",
        "\n",
        "\tdef pmf(self, state):\n",
        "\t\texponent = self.Q_U(state) / self.temperature\n",
        "\t\treturn np.exp(exponent - misc.logsumexp(exponent))\n",
        "\n",
        "\tdef sample(self, state):\n",
        "\t\treturn int(self.rng.choice(self.nactions, p=self.pmf(state)))\n",
        "\n",
        "\tdef gradient(self):\n",
        "\t\tpass\n",
        "\n",
        "\tdef update(self, state, action, Q_U):\n",
        "\t\tactions_pmf = self.pmf(state)\n",
        "\t\tself.weights[state, :] -= self.lr * actions_pmf * Q_U\n",
        "\t\tself.weights[state, action] += self.lr * Q_U\n",
        "\n",
        "\n",
        "class SigmoidTermination():\n",
        "\n",
        "\tdef __init__(self, rng, lr, nstates):\n",
        "\t\tself.rng = rng\n",
        "\t\tself.lr = lr\n",
        "\t\tself.nstates = nstates\n",
        "\t\tself.weights = np.zeros((nstates,))\n",
        "\n",
        "\tdef pmf(self, state):\n",
        "\t\treturn special.expit(self.weights[state])\n",
        "\n",
        "\tdef sample(self, state):\n",
        "\t\treturn int(self.rng.uniform() < self.pmf(state))\n",
        "\n",
        "\tdef gradient(self, state):\n",
        "\t\treturn self.pmf(state) * (1.0 - self.pmf(state)), state\n",
        "\n",
        "\tdef update(self, state, advantage):\n",
        "\t\tmagnitude, direction = self.gradient(state)\n",
        "\t\tself.weights[direction] -= self.lr * magnitude * advantage\n",
        "\n",
        "\n",
        "class Critic():\n",
        "\n",
        "\tdef __init__(self, lr, discount, Q_Omega_table, nstates, noptions, nactions):\n",
        "\t\tself.lr = lr\n",
        "\t\tself.discount = discount\n",
        "\t\tself.Q_Omega_table = Q_Omega_table\n",
        "\t\tself.Q_U_table = np.zeros((nstates, noptions, nactions))\n",
        "\n",
        "\tdef cache(self, state, option, action):\n",
        "\t\tself.last_state = state\n",
        "\t\tself.last_option = option\n",
        "\t\tself.last_action = action\n",
        "\t\tself.last_Q_Omega = self.Q_Omega(state, option)\n",
        "\n",
        "\tdef Q_Omega(self, state, option=None):\n",
        "\t\tif option is None:\n",
        "\t\t\treturn self.Q_Omega_table[state, :]\n",
        "\t\telse:\n",
        "\t\t\treturn self.Q_Omega_table[state, option]\n",
        "\n",
        "\tdef Q_U(self, state, option, action):\n",
        "\t\treturn self.Q_U_table[state, option, action]\n",
        "\n",
        "\tdef A_Omega(self, state, option=None, eps=0):\n",
        "\t\tadvantage = self.Q_Omega(state) - np.max(self.Q_Omega(state)) + eps\n",
        "\n",
        "\t\tif option is None:\n",
        "\t\t\treturn advantage\n",
        "\t\telse:\n",
        "\t\t\treturn advantage[option]\n",
        "\n",
        "\tdef update_Qs(self, state, option, action, reward, done, terminations):\n",
        "\t\t# One step target for Q_Omega\n",
        "\t\ttarget = reward\n",
        "\t\tif not done:\n",
        "\t\t\tbeta_omega = terminations[self.last_option].pmf(state)\n",
        "\t\t\ttarget += self.discount * ((1.0 - beta_omega)*self.Q_Omega(state, self.last_option) + \\\n",
        "\t\t\t\t\t\tbeta_omega*np.max(self.Q_Omega(state)))\n",
        "\n",
        "\t\t# Difference update\n",
        "\t\ttderror_Q_Omega = target - self.last_Q_Omega\n",
        "\t\tself.Q_Omega_table[self.last_state, self.last_option] += self.lr * tderror_Q_Omega\n",
        "\n",
        "\t\ttderror_Q_U = target - self.Q_U(self.last_state, self.last_option, self.last_action)\n",
        "\t\tself.Q_U_table[self.last_state, self.last_option, self.last_action] += self.lr * tderror_Q_U\n",
        "\n",
        "\t\t# Cache\n",
        "\t\tself.last_state = state\n",
        "\t\tself.last_option = option\n",
        "\t\tself.last_action = action\n",
        "\t\tif not done:\n",
        "\t\t\tself.last_Q_Omega = self.Q_Omega(state, option)"
      ]
    },
    {
      "cell_type": "markdown",
      "metadata": {
        "id": "DxuVQW4kJaFV"
      },
      "source": [
        "## env"
      ]
    },
    {
      "cell_type": "code",
      "execution_count": null,
      "metadata": {
        "id": "IzG-Af5SJf5c"
      },
      "outputs": [],
      "source": [
        "import numpy as np\n",
        "\n",
        "class Banana:\n",
        "\n",
        "  def __init__(self):\n",
        "    layout = \"\"\"\\\n",
        "wwwwwwwwwwwww\n",
        "w     w     w\n",
        "w     w     w\n",
        "w           w\n",
        "w     w     w\n",
        "w     w     w\n",
        "ww wwww     w\n",
        "w     www www\n",
        "w     w     w\n",
        "w     w     w\n",
        "w           w\n",
        "w     w     w\n",
        "wwwwwwwwwwwww\n",
        "\"\"\"\n",
        "\n",
        "    self.occupancy = np.array([list(map(lambda c: 1 if c=='w' else 0, line)) for line in layout.splitlines()])\n",
        "\n",
        "    # Four possible actions\n",
        "    # 0: UP\n",
        "    # 1: DOWN\n",
        "    # 2: LEFT\n",
        "    # 3: RIGHT\n",
        "    self.action_space = np.array([0, 1, 2, 3])\n",
        "    self.observation_space = np.zeros(np.sum(self.occupancy == 0))\n",
        "    self.directions = [np.array((-1,0)), np.array((1,0)), np.array((0,-1)), np.array((0,1))]\n",
        "\n",
        "    # Random number generator\n",
        "    self.rng = np.random.RandomState(1234)\n",
        "\n",
        "    self.tostate = {}\n",
        "    statenum = 0\n",
        "    for i in range(13):\n",
        "      for j in range(13):\n",
        "        if self.occupancy[i,j] == 0:\n",
        "          self.tostate[(i,j)] = statenum\n",
        "          statenum += 1\n",
        "    self.tocell = {v:k for k, v in self.tostate.items()}\n",
        "\n",
        "    \n",
        "    self.banana = 0\n",
        "    self.goal = 62\n",
        "    self.init_states = list(range(self.observation_space.shape[0]))\n",
        "    self.init_states.remove(self.banana)\n",
        "    \n",
        "\n",
        "  def render(self, show_banana=True, show_goal=True):\n",
        "    current_grid = np.array(self.occupancy)\n",
        "    current_grid[self.current_cell[0], self.current_cell[1]] = -1\n",
        "    if show_banana:\n",
        "      banana_cell = self.tocell[self.banana]\n",
        "      current_grid[banana_cell[0], banana_cell[1]] = -1\n",
        "    if show_goal:\n",
        "      goal_cell = self.tocell[self.goal]\n",
        "      current_grid[goal_cell[0], goal_cell[1]] = -1\n",
        "    return current_grid\n",
        "\n",
        "  def reset(self):\n",
        "    state = 45\n",
        "    self.current_cell = self.tocell[state]\n",
        "    return state\n",
        "\n",
        "  def check_available_cells(self, cell):\n",
        "    available_cells = []\n",
        "    for action in range(len(self.action_space)):\n",
        "      next_cell = tuple(cell + self.directions[action])\n",
        "\n",
        "      if not self.occupancy[next_cell]:\n",
        "        available_cells.append(next_cell)\n",
        "    return available_cells\n",
        "\n",
        "  def step(self, action):\n",
        "    \"\"\"\n",
        "    Takes a step in the environment with 2/3 probability and random action with 1/3 prob\n",
        "    \"\"\"\n",
        "    next_cell = tuple(self.current_cell + self.directions[action])\n",
        "\n",
        "    if not self.occupancy[next_cell]:\n",
        "      if self.rng.uniform() < 1/3:\n",
        "        available_cells = self.check_available_cells(self.current_cell)\n",
        "        self.current_cell = available_cells[self.rng.randint(len(available_cells))]\n",
        "      else:\n",
        "        self.current_cell = next_cell\n",
        "    state = self.tostate[self.current_cell]\n",
        "\n",
        "    done = False\n",
        "    reward = 0\n",
        "    if state == self.banana:\n",
        "      done = True\n",
        "      reward = 10\n",
        "    if state == self.goal:\n",
        "      done = True\n",
        "      reward = 100\n",
        "\n",
        "    \n",
        "    return state, reward, done, None\n"
      ]
    },
    {
      "cell_type": "code",
      "execution_count": null,
      "metadata": {
        "id": "NgFhjpFiNrKO"
      },
      "outputs": [],
      "source": [
        "class Map(object):\n",
        "    def __init__(self, size):\n",
        "        self.map_size = size\n",
        "        self.occupancy = np.zeros((self.map_size, self.map_size))\n",
        "        for i in range(self.map_size):\n",
        "            self.occupancy[0][i] = 1\n",
        "            self.occupancy[self.map_size - 1][i] = 1\n",
        "            self.occupancy[i][0] = 1\n",
        "            self.occupancy[i][self.map_size - 1] = 1\n",
        "        for i in range(self.map_size):\n",
        "            self.occupancy[i][int(self.map_size/2)] = 1\n",
        "        for i in range(int(self.map_size/2)):\n",
        "            self.occupancy[int(self.map_size/2)][i] = 1\n",
        "        for i in range(int(self.map_size/2), self.map_size):\n",
        "            self.occupancy[int(self.map_size/2)+1][i] = 1\n",
        "\n",
        "        self.occupancy[6][2] = 0\n",
        "        self.occupancy[3][6] = 0\n",
        "        self.occupancy[7][9] = 0\n",
        "        self.occupancy[10][6] = 0\n",
        "        \n",
        "        self.agt1_pos = [5, 5]\n",
        "        self.banana = [1, 1]\n",
        "        self.goal_pos = [7, 9]\n",
        "\n",
        "\n",
        "    def reset(self):\n",
        "        self.occupancy = np.zeros((self.map_size, self.map_size))\n",
        "        for i in range(self.map_size):\n",
        "            self.occupancy[0][i] = 1\n",
        "            self.occupancy[self.map_size - 1][i] = 1\n",
        "            self.occupancy[i][0] = 1\n",
        "            self.occupancy[i][self.map_size - 1] = 1\n",
        "        for i in range(self.map_size):\n",
        "            self.occupancy[i][int(self.map_size/2)] = 1\n",
        "        for i in range(int(self.map_size/2)):\n",
        "            self.occupancy[int(self.map_size/2)][i] = 1\n",
        "        for i in range(int(self.map_size/2), self.map_size):\n",
        "            self.occupancy[int(self.map_size/2)+1][i] = 1\n",
        "\n",
        "        self.occupancy[6][2] = 0\n",
        "        self.occupancy[3][6] = 0\n",
        "        self.occupancy[7][9] = 0\n",
        "        self.occupancy[10][6] = 0\n",
        "        self.agt1_pos = [5, 5]\n",
        "        self.banana = [1, 1]\n",
        "        self.goal_pos = [7, 9]\n",
        "\n",
        "\n",
        "    def get_state(self):\n",
        "        state = np.zeros(2)\n",
        "        state[0] = self.agt1_pos[0] #/ self.map_size\n",
        "        state[1] = self.agt1_pos[1] #/ self.map_size\n",
        "        return state\n",
        "\n",
        "    def get_next_state(self, action):\n",
        "        # agent move\n",
        "        if action == 0:  # move up\n",
        "            if self.occupancy[self.agt1_pos[0] - 1][self.agt1_pos[1]] != 1:  # if can move\n",
        "                self.agt1_pos[0] = self.agt1_pos[0] - 1\n",
        "        elif action == 1:  # move down\n",
        "            if self.occupancy[self.agt1_pos[0] + 1][self.agt1_pos[1]] != 1:  # if can move\n",
        "                self.agt1_pos[0] = self.agt1_pos[0] + 1\n",
        "        elif action == 2:  # move left\n",
        "            if self.occupancy[self.agt1_pos[0]][self.agt1_pos[1] - 1] != 1:  # if can move\n",
        "                self.agt1_pos[1] = self.agt1_pos[1] - 1\n",
        "        elif action == 3:  # move right\n",
        "            if self.occupancy[self.agt1_pos[0]][self.agt1_pos[1] + 1] != 1:  # if can move\n",
        "                self.agt1_pos[1] = self.agt1_pos[1] + 1\n",
        "\n",
        "\n",
        "        return self.get_state()"
      ]
    },
    {
      "cell_type": "code",
      "execution_count": null,
      "metadata": {
        "colab": {
          "base_uri": "https://localhost:8080/",
          "height": 248
        },
        "id": "evLmcyIZKitP",
        "outputId": "e1558366-5593-4f44-9a3e-5594a7f51e89"
      },
      "outputs": [
        {
          "data": {
            "image/png": "[encoded data removed]",
            "text/plain": [
              "<Figure size 432x288 with 1 Axes>"
            ]
          },
          "metadata": {},
          "output_type": "display_data"
        }
      ],
      "source": [
        "env = Banana()\n",
        "env.reset()\n",
        "\n",
        "clear_output(True)\n",
        "plt.imshow(env.render(show_banana=True), cmap='Blues')\n",
        "plt.axis('off')\n",
        "plt.show()"
      ]
    },
    {
      "cell_type": "code",
      "execution_count": null,
      "metadata": {
        "colab": {
          "base_uri": "https://localhost:8080/"
        },
        "id": "E-rDdmFTOsjD",
        "outputId": "9630fd2a-f4f4-4dd4-c297-f5039a496ef7"
      },
      "outputs": [
        {
          "data": {
            "text/plain": [
              "(104,)"
            ]
          },
          "execution_count": 11,
          "metadata": {},
          "output_type": "execute_result"
        }
      ],
      "source": [
        "env.observation_space.shape"
      ]
    },
    {
      "cell_type": "markdown",
      "metadata": {
        "id": "u5yDlNgSKsnW"
      },
      "source": [
        "## option critic"
      ]
    },
    {
      "cell_type": "markdown",
      "metadata": {
        "id": "EeE2R0NnLSrn"
      },
      "source": [
        "### in reward"
      ]
    },
    {
      "cell_type": "code",
      "execution_count": null,
      "metadata": {
        "id": "kwV5DDNuajnX"
      },
      "outputs": [],
      "source": [
        "import torch\n",
        "import torch.nn as nn\n",
        "import torch.optim as optim\n",
        "import torch.nn.functional as F\n",
        "from torch.distributions import Categorical\n",
        "import numpy as np\n",
        "import random\n",
        "\n",
        "class FeatureEncoder(nn.Module):\n",
        "  def __init__(self, obs_dim, output_dim):\n",
        "    super(FeatureEncoder, self).__init__()\n",
        "    self.fc1 = nn.Linear(obs_dim, 32)\n",
        "    self.fc2 = nn.Linear(32, 32)\n",
        "    self.fc3 = nn.Linear(32, output_dim)\n",
        "  \n",
        "  def forward(self, x):\n",
        "    x = torch.sigmoid(self.fc1(x.float()))\n",
        "    x = torch.sigmoid(self.fc2(x))\n",
        "    x = self.fc3(x)\n",
        "    return x\n",
        "\n",
        "class PredictNet_1(nn.Module):\n",
        "  def __init__(self, action_dim, obs_feature_dim, output_dim):\n",
        "    super(PredictNet_1, self).__init__()\n",
        "    self.fc1 = nn.Linear(action_dim+obs_feature_dim, 32)\n",
        "    self.fc2 = nn.Linear(32, 32)\n",
        "    self.fc3 = nn.Linear(32, output_dim)\n",
        "  \n",
        "  def forward(self, action, obs_feature):\n",
        "    x = torch.cat([action, obs_feature], dim=0)\n",
        "    x = torch.sigmoid(self.fc1(x.float()))\n",
        "    x = torch.sigmoid(self.fc2(x))\n",
        "    x = self.fc3(x)\n",
        "    return x\n",
        "\n",
        "class PredictNet_2(nn.Module):\n",
        "  def __init__(self, obs_feature_dim, action_dim):\n",
        "    super(PredictNet_2, self).__init__()\n",
        "    self.fc1 = nn.Linear(2*obs_feature_dim, 32)\n",
        "    self.fc2 = nn.Linear(32, 32)\n",
        "    self.fc3 = nn.Linear(32, action_dim)\n",
        "  \n",
        "  def forward(self, x1, x2):\n",
        "    x = torch.cat([x1, x2], dim=0)\n",
        "    x = torch.sigmoid(self.fc1(x.float()))\n",
        "    x = torch.sigmoid(self.fc2(x))\n",
        "    action_score = self.fc3(x)\n",
        "    return F.softmax(action_score, dim=-1)\n",
        "\n",
        "\n",
        "class ICM():\n",
        "    def __init__(self, obs_dim=2, action_dim=4, obs_feature_dim=4, output_dim=4):\n",
        "      super(ICM, self).__init__()\n",
        "      self.obs_dim = obs_dim\n",
        "      self.action_dim = action_dim\n",
        "      self.obs_feature_dim = obs_feature_dim\n",
        "      self.output_dim = output_dim\n",
        "\n",
        "      self.feature_encoder = FeatureEncoder(obs_dim, obs_feature_dim)\n",
        "      self.predict_net_1 = PredictNet_1(action_dim, obs_feature_dim, output_dim)\n",
        "      self.predict_net_2 = PredictNet_2(obs_feature_dim, action_dim)\n",
        "\n",
        "      self.optimizer1 = torch.optim.Adam(self.predict_net_1.parameters(), lr=1e-3)\n",
        "      self.optimizer2 = torch.optim.Adam(self.predict_net_2.parameters(), lr=1e-3)\n",
        "\n",
        "      self.crition = torch.nn.CrossEntropyLoss()\n",
        "\n",
        "    def get_intrinsic_reward(self, action, state, next_state):\n",
        "      action = torch.from_numpy(action)\n",
        "      state_feature = self.feature_encoder(torch.from_numpy(state))\n",
        "      \n",
        "      next_state_feature = self.feature_encoder(torch.from_numpy(next_state))\n",
        "\n",
        "      next_state_feature_pred = self.predict_net_1.forward(action, state_feature)\n",
        "      intrinsic_reward = torch.norm(next_state_feature - next_state_feature_pred).item()\n",
        "\n",
        "      action_pred = self.predict_net_2.forward(state_feature, next_state_feature)\n",
        "      importance = torch.exp( -torch.norm(action - action_pred) ).item()\n",
        "\n",
        "      # Train network 1\n",
        "      #print(\"next state \", next_state_feature)\n",
        "      #print(\"next state pred \", next_state_feature_pred)\n",
        "      loss1 = torch.norm(next_state_feature - next_state_feature_pred)\n",
        "      self.optimizer1.zero_grad()\n",
        "      loss1.backward()\n",
        "      self.optimizer1.step()\n",
        "\n",
        "      # Train network 2\n",
        "      \"\"\"print(\"action \", action)\n",
        "      print(\"action pred \", action_pred)\n",
        "      loss2 = self.crition(action_pred, torch.tensor([0, 1, 0, 0])) #torch.norm(action - action_pred)\n",
        "      \n",
        "      loss2.backward()\n",
        "      self.optimizer2.step()\n",
        "      self.optimizer2.zero_grad()\"\"\"\n",
        "\n",
        "      #intrinsic_reward = intrinsic_reward*importance\n",
        "      return intrinsic_reward\n",
        "\n"
      ]
    },
    {
      "cell_type": "markdown",
      "metadata": {
        "id": "jGTnk_GmLAGf"
      },
      "source": [
        "### Train"
      ]
    },
    {
      "cell_type": "markdown",
      "metadata": {
        "id": "O9ivAzWFLAGf"
      },
      "source": [
        "Setting the hyperparameters."
      ]
    },
    {
      "cell_type": "code",
      "execution_count": null,
      "metadata": {
        "id": "kkU4z6cALAGg"
      },
      "outputs": [],
      "source": [
        "# Discount\n",
        "discount = 0.99\n",
        "\n",
        "# Learning rates - termination, intra-option, critic\n",
        "lr_term = 0.25\n",
        "lr_intra = 0.25\n",
        "lr_critic = 0.5\n",
        "\n",
        "# Epsilon for epsilon-greedy for policy over options\n",
        "epsilon = 0.1\n",
        "\n",
        "# Temperature for softmax\n",
        "temperature = 1e-2\n",
        "\n",
        "# Number of runs\n",
        "nruns = 10\n",
        "\n",
        "# Number of episodes per run\n",
        "nepisodes = 4000\n",
        "\n",
        "# Maximum number of steps per episode\n",
        "nsteps = 1000\n",
        "\n",
        "# Number of options\n",
        "noptions = 4\n",
        "\n",
        "episode_explore = 500"
      ]
    },
    {
      "cell_type": "code",
      "execution_count": null,
      "metadata": {
        "id": "SBARBxmNLAGg"
      },
      "outputs": [],
      "source": [
        "# Random number generator for reproducability\n",
        "rng = np.random.RandomState(1234)\n",
        "\n",
        "# The possible next goals (all in the lower right room)\n",
        "possible_next_goals = [68, 69, 70, 71, 72, 78, 79, 80, 81, 82, 88, 89, 90, 91, 92, 93, 99, 100, 101, 102, 103]"
      ]
    },
    {
      "cell_type": "code",
      "execution_count": null,
      "metadata": {
        "id": "NwysFOuWNqrW"
      },
      "outputs": [],
      "source": [
        "map_maze = Map(13)"
      ]
    },
    {
      "cell_type": "code",
      "execution_count": null,
      "metadata": {
        "colab": {
          "base_uri": "https://localhost:8080/",
          "height": 856
        },
        "id": "LV50t8GmNzUv",
        "outputId": "e814367e-fd81-489d-ee56-e65e16ef3132"
      },
      "outputs": [
        {
          "output_type": "display_data",
          "data": {
            "text/plain": [
              "<Figure size 1440x864 with 3 Axes>"
            ],
            "image/png": "[encoded data removed]"
          },
          "metadata": {
            "needs_background": "light"
          }
        },
        {
          "output_type": "display_data",
          "data": {
            "text/plain": [
              "<Figure size 432x288 with 1 Axes>"
            ],
            "image/png": "[encoded data removed]"
          },
          "metadata": {
            "needs_background": "light"
          }
        }
      ],
      "source": [
        "import math\n",
        "\n",
        "# History of steps and average durations\n",
        "history = np.zeros((nruns, nepisodes, 4))\n",
        "\n",
        "option_terminations_list = []\n",
        "\n",
        "for run in range(nruns):\n",
        "\n",
        "\n",
        "    env = Banana()\n",
        "    map_maze = Map(13)\n",
        "\n",
        "    \n",
        "    nstates = env.observation_space.shape[0]\n",
        "    nactions = env.action_space.shape[0]\n",
        "    \n",
        "    # Following three belong to the Actor\n",
        "    \n",
        "    # 1. The intra-option policies - linear softmax functions\n",
        "    option_policies = [SoftmaxPolicy(rng, lr_intra, nstates, nactions, temperature) for _ in range(noptions)]\n",
        "    \n",
        "    # 2. The termination function - linear sigmoid function\n",
        "    option_terminations = [SigmoidTermination(rng, lr_term, nstates) for _ in range(noptions)]\n",
        "    \n",
        "    # 3. The epsilon-greedy policy over options\n",
        "    policy_over_options = EpsGreedyPolicy(rng, nstates, noptions, epsilon)\n",
        "    \n",
        "    # Critic\n",
        "    critic = Critic(lr_critic, discount, policy_over_options.Q_Omega_table, nstates, noptions, nactions)\n",
        "\n",
        "    icm = ICM(obs_dim=2, action_dim=4, obs_feature_dim=4, output_dim=4)\n",
        "    \n",
        "    \n",
        "    for episode in range(nepisodes):\n",
        "        \n",
        "        state = env.reset()\n",
        "        map_maze.reset()\n",
        "        \n",
        "        option = policy_over_options.sample(state)\n",
        "        action = option_policies[option].sample(state)\n",
        "        \n",
        "        critic.cache(state, option, action)\n",
        "        \n",
        "        duration = 1\n",
        "        option_switches = 0\n",
        "        avg_duration = 0.0\n",
        "\n",
        "        reward_acc = 0\n",
        "        in_reward_acc = 0\n",
        "        \n",
        "        for step in range(1,nsteps):\n",
        "            \n",
        "            state, reward, done, _ = env.step(action)\n",
        "            \n",
        "\n",
        "            reward_acc += reward\n",
        "            \n",
        "            # Termination might occur upon entering new state\n",
        "            if option_terminations[option].sample(state):\n",
        "                option = policy_over_options.sample(state)\n",
        "                option_switches += 1\n",
        "                avg_duration += (1.0/option_switches)*(duration - avg_duration)\n",
        "                duration = 1\n",
        "\n",
        "            \n",
        "            action = option_policies[option].sample(state)\n",
        "            \n",
        "            state_encoder = map_maze.get_state()\n",
        "            next_state_encoder = map_maze.get_next_state(action)\n",
        "            action_encoder = np.zeros(nactions)\n",
        "            action_encoder[int(action)] = 1.0\n",
        "            initrinstic_reward = icm.get_intrinsic_reward(action_encoder, state_encoder, next_state_encoder)\n",
        "            in_reward_acc += initrinstic_reward\n",
        "\n",
        "            \n",
        "            \n",
        "            \n",
        "            # Critic update\n",
        "            critic.update_Qs(state, option, action, reward + 1*initrinstic_reward/math.sqrt(episode+1), done, option_terminations)\n",
        "            \n",
        "            # Intra-option policy update with baseline\n",
        "            Q_U = critic.Q_U(state, option, action)\n",
        "            Q_U = Q_U - critic.Q_Omega(state, option)\n",
        "            option_policies[option].update(state, action, Q_U)\n",
        "            \n",
        "            if episode < 1000:\n",
        "              # Termination condition update\n",
        "              option_terminations[option].update(state, critic.A_Omega(state, option, 0.0))\n",
        "            else:\n",
        "              option_terminations[option].update(state, critic.A_Omega(state, option, 0.0))\n",
        "            \n",
        "            duration += 1\n",
        "            \n",
        "            \n",
        "            if done:   \n",
        "              break\n",
        "       \n",
        "                \n",
        "        history[run, episode, 0] = step\n",
        "        history[run, episode, 1] = reward_acc/step\n",
        "        history[run, episode, 2] = avg_duration\n",
        "        history[run, episode, 3] = initrinstic_reward/step\n",
        "   \n",
        "        \n",
        "    option_terminations_list.append(option_terminations)\n",
        "    \n",
        "    \n",
        "    # Plot stuff\n",
        "    clear_output(True)\n",
        "    plt.figure(figsize=(20,12))\n",
        "    plt.subplot(221)\n",
        "    plt.title('run: %s' % run)\n",
        "    plt.xlabel('episodes')\n",
        "    plt.ylabel('step')\n",
        "    plt.plot(np.mean(history[:run+1,:,0], axis=0))\n",
        "    plt.grid(True)\n",
        "\n",
        "    plt.subplot(222)\n",
        "    plt.title('run: %s' % run)\n",
        "    plt.xlabel('episodes')\n",
        "    plt.ylabel('reward per step')\n",
        "    plt.plot(np.mean(history[:run+1,:,1], axis=0))\n",
        "    plt.grid(True)\n",
        "\n",
        "    plt.subplot(223)\n",
        "    plt.title('run: %s' % run)\n",
        "    plt.xlabel('episodes')\n",
        "    plt.ylabel('avg. option duration')\n",
        "    plt.plot(np.mean(history[:run+1,:,2], axis=0))\n",
        "    plt.grid(True)\n",
        "    \n",
        "\n",
        "    plt.subplot(224)\n",
        "    plt.title('run: %s' % run)\n",
        "    plt.xlabel('episodes')\n",
        "    plt.ylabel('reward per step')\n",
        "    plt.plot(np.mean(history[:run+1,:,3], axis=0))\n",
        "    plt.grid(True)\n",
        "    plt.show()"
      ]
    },
    {
      "cell_type": "code",
      "execution_count": null,
      "metadata": {
        "colab": {
          "base_uri": "https://localhost:8080/",
          "height": 308
        },
        "id": "JCAYmQuuDm4c",
        "outputId": "a78264fc-8653-4f34-d202-6cccad51bc76"
      },
      "outputs": [
        {
          "name": "stdout",
          "output_type": "stream",
          "text": [
            "Run: 9\n"
          ]
        },
        {
          "data": {
            "image/png": "[encoded data removed]",
            "text/plain": [
              "<Figure size 1440x360 with 4 Axes>"
            ]
          },
          "metadata": {},
          "output_type": "display_data"
        }
      ],
      "source": [
        "for run in range(nruns):\n",
        "    \n",
        "    termination_maps = [env.occupancy.astype('float64') for _ in range(noptions)]\n",
        "    \n",
        "    for option in range(noptions):\n",
        "        state = 0\n",
        "        for i in range(13):\n",
        "            for j in range(13):\n",
        "                if termination_maps[option][i,j] == 0:\n",
        "                    termination_maps[option][i,j] = option_terminations_list[run][option].pmf(state)\n",
        "                    state += 1\n",
        "\n",
        "    clear_output(True)\n",
        "    print('Run: {}'.format(run))\n",
        "    plt.figure(figsize=(20,5))\n",
        "    plt.subplot(141)\n",
        "    plt.title('option: 0', fontsize=20)\n",
        "    plt.imshow(termination_maps[0], cmap='Blues')\n",
        "    plt.axis('off')\n",
        "    plt.subplot(142)\n",
        "    plt.title('option: 1', fontsize=20)\n",
        "    plt.imshow(termination_maps[1], cmap='Blues')\n",
        "    plt.axis('off')\n",
        "    plt.subplot(143)\n",
        "    plt.title('option: 2', fontsize=20)\n",
        "    plt.imshow(termination_maps[2], cmap='Blues')\n",
        "    plt.axis('off')\n",
        "    plt.subplot(144)\n",
        "    plt.title('option: 3', fontsize=20)\n",
        "    plt.imshow(termination_maps[3], cmap='Blues')\n",
        "    plt.axis('off')\n",
        "    plt.show()\n",
        "    sleep(2)"
      ]
    },
    {
      "cell_type": "code",
      "execution_count": null,
      "metadata": {
        "colab": {
          "base_uri": "https://localhost:8080/",
          "height": 286
        },
        "id": "XD0GPi-G07Gu",
        "outputId": "e7a1dcaf-d3c3-4913-bc35-40b4f88dd39b"
      },
      "outputs": [
        {
          "data": {
            "image/png": "[encoded data removed]",
            "text/plain": [
              "<Figure size 720x288 with 2 Axes>"
            ]
          },
          "metadata": {},
          "output_type": "display_data"
        },
        {
          "name": "stdout",
          "output_type": "stream",
          "text": [
            "Goal reached!\n"
          ]
        }
      ],
      "source": [
        "# Turn off exploration while testing\n",
        "policy_over_options.epsilon = 0\n",
        "for option in range(noptions):\n",
        "    option_policies[option].temperature = 1e-10\n",
        "\n",
        "env = Banana()\n",
        "\n",
        "nepisodes = 10\n",
        "\n",
        "rng = np.random.RandomState(1234)\n",
        "\n",
        "for episode in range(nepisodes):\n",
        "\n",
        "    state = env.reset()\n",
        "\n",
        "    option = policy_over_options.sample(state)\n",
        "\n",
        "    for step in range(nsteps):\n",
        "        \n",
        "        action = option_policies[option].sample(state)\n",
        "        \n",
        "        state, reward, done, _ = env.step(action)\n",
        "\n",
        "        # Termination might occur upon entering new state\n",
        "        if option_terminations[option].sample(state):\n",
        "            option = policy_over_options.sample(state)\n",
        "        \n",
        "        clear_output(True)\n",
        "        plt.figure(figsize=(10,4))\n",
        "        plt.subplot(121)\n",
        "        plt.title('episode: {}, step: {}'.format(episode, step), fontsize=20)\n",
        "        plt.imshow(env.render(), cmap='Blues', )\n",
        "        plt.axis('off')\n",
        "        plt.subplot(122)\n",
        "        plt.title('option: %s' %option, fontsize=20)\n",
        "        plt.imshow(termination_maps[option], cmap='Blues')\n",
        "        plt.axis('off')\n",
        "        plt.show()\n",
        "\n",
        "        if done:\n",
        "            break\n",
        "    \n",
        "    print(\"Goal reached!\")\n",
        "    sleep(2)"
      ]
    }
  ],
  "metadata": {
    "colab": {
      "collapsed_sections": [],
      "provenance": [],
      "toc_visible": true
    },
    "kernelspec": {
      "display_name": "Python 3",
      "language": "python",
      "name": "python3"
    },
    "language_info": {
      "codemirror_mode": {
        "name": "ipython",
        "version": 3
      },
      "file_extension": ".py",
      "mimetype": "text/x-python",
      "name": "python",
      "nbconvert_exporter": "python",
      "pygments_lexer": "ipython3",
      "version": "3.6.6"
    }
  },
  "nbformat": 4,
  "nbformat_minor": 0
}